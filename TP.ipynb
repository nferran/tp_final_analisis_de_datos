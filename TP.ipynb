{
 "cells": [
  {
   "cell_type": "markdown",
   "metadata": {},
   "source": [
    "# Trabajo práctico integrador \n",
    "## _Análisis de datos_\n",
    "## CEIA Co12\n",
    "\n",
    "### Grupo 2:\n",
    "1. Córdoba, Pablo\n",
    "2. Ferrán, Natanael\n",
    "3. Pérez Millán, Rodrigo\n",
    "\n",
    "### Dataset:\n",
    "- [Global Data on Sustainable Energy (2000-2020)](https://www.kaggle.com/datasets/anshtanwar/global-data-on-sustainable-energy)\n",
    "\n",
    "### Posibles cuestiones a resolver:\n",
    "- Clusterizar los países, según su nivel de emisiones de CO2.\n",
    "- Clusterizar los países, según su dedicación para con la emigración hacia las energías renovables.\n",
    "- Encontrar oportunidades de inversión, a partir del análisis de capacidad instalada vs demanda vs emisiones de CO2 (si contaminan mucho, hay demanda creciente y poca capacidad instalada, habría una buena oportunidad de inversión)\n",
    "\n",
    "***"
   ]
  },
  {
   "cell_type": "code",
   "execution_count": 1,
   "metadata": {},
   "outputs": [],
   "source": [
    "# importing needed libraries\n",
    "\n",
    "import pandas as pd\n",
    "import numpy as np\n",
    "import matplotlib.pyplot as plt\n",
    "import seaborn as sns\n",
    "import requests"
   ]
  },
  {
   "cell_type": "code",
   "execution_count": 2,
   "metadata": {},
   "outputs": [],
   "source": [
    "# reading the file\n",
    "\n",
    "url= 'https://raw.githubusercontent.com/nferran/tp_final_analisis_de_datos/main/global-data-on-sustainable-energy.csv'\n",
    "df= pd.read_csv(url)"
   ]
  },
  {
   "cell_type": "markdown",
   "metadata": {},
   "source": [
    "## Análisis exploratorio inicial"
   ]
  },
  {
   "cell_type": "code",
   "execution_count": 3,
   "metadata": {},
   "outputs": [
    {
     "data": {
      "text/html": [
       "<div>\n",
       "<style scoped>\n",
       "    .dataframe tbody tr th:only-of-type {\n",
       "        vertical-align: middle;\n",
       "    }\n",
       "\n",
       "    .dataframe tbody tr th {\n",
       "        vertical-align: top;\n",
       "    }\n",
       "\n",
       "    .dataframe thead th {\n",
       "        text-align: right;\n",
       "    }\n",
       "</style>\n",
       "<table border=\"1\" class=\"dataframe\">\n",
       "  <thead>\n",
       "    <tr style=\"text-align: right;\">\n",
       "      <th></th>\n",
       "      <th>Entity</th>\n",
       "      <th>Year</th>\n",
       "      <th>Access to electricity (% of population)</th>\n",
       "      <th>Access to clean fuels for cooking</th>\n",
       "      <th>Renewable-electricity-generating-capacity-per-capita</th>\n",
       "      <th>Financial flows to developing countries (US $)</th>\n",
       "      <th>Renewable energy share in the total final energy consumption (%)</th>\n",
       "      <th>Electricity from fossil fuels (TWh)</th>\n",
       "      <th>Electricity from nuclear (TWh)</th>\n",
       "      <th>Electricity from renewables (TWh)</th>\n",
       "      <th>...</th>\n",
       "      <th>Primary energy consumption per capita (kWh/person)</th>\n",
       "      <th>Energy intensity level of primary energy (MJ/$2017 PPP GDP)</th>\n",
       "      <th>Value_co2_emissions_kt_by_country</th>\n",
       "      <th>Renewables (% equivalent primary energy)</th>\n",
       "      <th>gdp_growth</th>\n",
       "      <th>gdp_per_capita</th>\n",
       "      <th>Density\\n(P/Km2)</th>\n",
       "      <th>Land Area(Km2)</th>\n",
       "      <th>Latitude</th>\n",
       "      <th>Longitude</th>\n",
       "    </tr>\n",
       "  </thead>\n",
       "  <tbody>\n",
       "    <tr>\n",
       "      <th>0</th>\n",
       "      <td>Afghanistan</td>\n",
       "      <td>2000</td>\n",
       "      <td>1.613591</td>\n",
       "      <td>6.2</td>\n",
       "      <td>9.22</td>\n",
       "      <td>20000.0</td>\n",
       "      <td>44.99</td>\n",
       "      <td>0.16</td>\n",
       "      <td>0.0</td>\n",
       "      <td>0.31</td>\n",
       "      <td>...</td>\n",
       "      <td>302.59482</td>\n",
       "      <td>1.64</td>\n",
       "      <td>760.000000</td>\n",
       "      <td>NaN</td>\n",
       "      <td>NaN</td>\n",
       "      <td>NaN</td>\n",
       "      <td>60</td>\n",
       "      <td>652230.0</td>\n",
       "      <td>33.93911</td>\n",
       "      <td>67.709953</td>\n",
       "    </tr>\n",
       "    <tr>\n",
       "      <th>1</th>\n",
       "      <td>Afghanistan</td>\n",
       "      <td>2001</td>\n",
       "      <td>4.074574</td>\n",
       "      <td>7.2</td>\n",
       "      <td>8.86</td>\n",
       "      <td>130000.0</td>\n",
       "      <td>45.60</td>\n",
       "      <td>0.09</td>\n",
       "      <td>0.0</td>\n",
       "      <td>0.50</td>\n",
       "      <td>...</td>\n",
       "      <td>236.89185</td>\n",
       "      <td>1.74</td>\n",
       "      <td>730.000000</td>\n",
       "      <td>NaN</td>\n",
       "      <td>NaN</td>\n",
       "      <td>NaN</td>\n",
       "      <td>60</td>\n",
       "      <td>652230.0</td>\n",
       "      <td>33.93911</td>\n",
       "      <td>67.709953</td>\n",
       "    </tr>\n",
       "    <tr>\n",
       "      <th>2</th>\n",
       "      <td>Afghanistan</td>\n",
       "      <td>2002</td>\n",
       "      <td>9.409158</td>\n",
       "      <td>8.2</td>\n",
       "      <td>8.47</td>\n",
       "      <td>3950000.0</td>\n",
       "      <td>37.83</td>\n",
       "      <td>0.13</td>\n",
       "      <td>0.0</td>\n",
       "      <td>0.56</td>\n",
       "      <td>...</td>\n",
       "      <td>210.86215</td>\n",
       "      <td>1.40</td>\n",
       "      <td>1029.999971</td>\n",
       "      <td>NaN</td>\n",
       "      <td>NaN</td>\n",
       "      <td>179.426579</td>\n",
       "      <td>60</td>\n",
       "      <td>652230.0</td>\n",
       "      <td>33.93911</td>\n",
       "      <td>67.709953</td>\n",
       "    </tr>\n",
       "    <tr>\n",
       "      <th>3</th>\n",
       "      <td>Afghanistan</td>\n",
       "      <td>2003</td>\n",
       "      <td>14.738506</td>\n",
       "      <td>9.5</td>\n",
       "      <td>8.09</td>\n",
       "      <td>25970000.0</td>\n",
       "      <td>36.66</td>\n",
       "      <td>0.31</td>\n",
       "      <td>0.0</td>\n",
       "      <td>0.63</td>\n",
       "      <td>...</td>\n",
       "      <td>229.96822</td>\n",
       "      <td>1.40</td>\n",
       "      <td>1220.000029</td>\n",
       "      <td>NaN</td>\n",
       "      <td>8.832278</td>\n",
       "      <td>190.683814</td>\n",
       "      <td>60</td>\n",
       "      <td>652230.0</td>\n",
       "      <td>33.93911</td>\n",
       "      <td>67.709953</td>\n",
       "    </tr>\n",
       "    <tr>\n",
       "      <th>4</th>\n",
       "      <td>Afghanistan</td>\n",
       "      <td>2004</td>\n",
       "      <td>20.064968</td>\n",
       "      <td>10.9</td>\n",
       "      <td>7.75</td>\n",
       "      <td>NaN</td>\n",
       "      <td>44.24</td>\n",
       "      <td>0.33</td>\n",
       "      <td>0.0</td>\n",
       "      <td>0.56</td>\n",
       "      <td>...</td>\n",
       "      <td>204.23125</td>\n",
       "      <td>1.20</td>\n",
       "      <td>1029.999971</td>\n",
       "      <td>NaN</td>\n",
       "      <td>1.414118</td>\n",
       "      <td>211.382074</td>\n",
       "      <td>60</td>\n",
       "      <td>652230.0</td>\n",
       "      <td>33.93911</td>\n",
       "      <td>67.709953</td>\n",
       "    </tr>\n",
       "  </tbody>\n",
       "</table>\n",
       "<p>5 rows × 21 columns</p>\n",
       "</div>"
      ],
      "text/plain": [
       "        Entity  Year  Access to electricity (% of population)  \\\n",
       "0  Afghanistan  2000                                 1.613591   \n",
       "1  Afghanistan  2001                                 4.074574   \n",
       "2  Afghanistan  2002                                 9.409158   \n",
       "3  Afghanistan  2003                                14.738506   \n",
       "4  Afghanistan  2004                                20.064968   \n",
       "\n",
       "   Access to clean fuels for cooking  \\\n",
       "0                                6.2   \n",
       "1                                7.2   \n",
       "2                                8.2   \n",
       "3                                9.5   \n",
       "4                               10.9   \n",
       "\n",
       "   Renewable-electricity-generating-capacity-per-capita  \\\n",
       "0                                               9.22      \n",
       "1                                               8.86      \n",
       "2                                               8.47      \n",
       "3                                               8.09      \n",
       "4                                               7.75      \n",
       "\n",
       "   Financial flows to developing countries (US $)  \\\n",
       "0                                         20000.0   \n",
       "1                                        130000.0   \n",
       "2                                       3950000.0   \n",
       "3                                      25970000.0   \n",
       "4                                             NaN   \n",
       "\n",
       "   Renewable energy share in the total final energy consumption (%)  \\\n",
       "0                                              44.99                  \n",
       "1                                              45.60                  \n",
       "2                                              37.83                  \n",
       "3                                              36.66                  \n",
       "4                                              44.24                  \n",
       "\n",
       "   Electricity from fossil fuels (TWh)  Electricity from nuclear (TWh)  \\\n",
       "0                                 0.16                             0.0   \n",
       "1                                 0.09                             0.0   \n",
       "2                                 0.13                             0.0   \n",
       "3                                 0.31                             0.0   \n",
       "4                                 0.33                             0.0   \n",
       "\n",
       "   Electricity from renewables (TWh)  ...  \\\n",
       "0                               0.31  ...   \n",
       "1                               0.50  ...   \n",
       "2                               0.56  ...   \n",
       "3                               0.63  ...   \n",
       "4                               0.56  ...   \n",
       "\n",
       "   Primary energy consumption per capita (kWh/person)  \\\n",
       "0                                          302.59482    \n",
       "1                                          236.89185    \n",
       "2                                          210.86215    \n",
       "3                                          229.96822    \n",
       "4                                          204.23125    \n",
       "\n",
       "   Energy intensity level of primary energy (MJ/$2017 PPP GDP)  \\\n",
       "0                                               1.64             \n",
       "1                                               1.74             \n",
       "2                                               1.40             \n",
       "3                                               1.40             \n",
       "4                                               1.20             \n",
       "\n",
       "   Value_co2_emissions_kt_by_country  \\\n",
       "0                         760.000000   \n",
       "1                         730.000000   \n",
       "2                        1029.999971   \n",
       "3                        1220.000029   \n",
       "4                        1029.999971   \n",
       "\n",
       "   Renewables (% equivalent primary energy)  gdp_growth  gdp_per_capita  \\\n",
       "0                                       NaN         NaN             NaN   \n",
       "1                                       NaN         NaN             NaN   \n",
       "2                                       NaN         NaN      179.426579   \n",
       "3                                       NaN    8.832278      190.683814   \n",
       "4                                       NaN    1.414118      211.382074   \n",
       "\n",
       "   Density\\n(P/Km2) Land Area(Km2)  Latitude  Longitude  \n",
       "0                60       652230.0  33.93911  67.709953  \n",
       "1                60       652230.0  33.93911  67.709953  \n",
       "2                60       652230.0  33.93911  67.709953  \n",
       "3                60       652230.0  33.93911  67.709953  \n",
       "4                60       652230.0  33.93911  67.709953  \n",
       "\n",
       "[5 rows x 21 columns]"
      ]
     },
     "execution_count": 3,
     "metadata": {},
     "output_type": "execute_result"
    }
   ],
   "source": [
    "# showing first 5 rows\n",
    "\n",
    "df.head()"
   ]
  },
  {
   "cell_type": "code",
   "execution_count": 4,
   "metadata": {},
   "outputs": [
    {
     "data": {
      "text/html": [
       "<div>\n",
       "<style scoped>\n",
       "    .dataframe tbody tr th:only-of-type {\n",
       "        vertical-align: middle;\n",
       "    }\n",
       "\n",
       "    .dataframe tbody tr th {\n",
       "        vertical-align: top;\n",
       "    }\n",
       "\n",
       "    .dataframe thead th {\n",
       "        text-align: right;\n",
       "    }\n",
       "</style>\n",
       "<table border=\"1\" class=\"dataframe\">\n",
       "  <thead>\n",
       "    <tr style=\"text-align: right;\">\n",
       "      <th></th>\n",
       "      <th>Renewable-electricity-generating-capacity-per-capita</th>\n",
       "      <th>Electricity from renewables (TWh)</th>\n",
       "      <th>Renewables (% equivalent primary energy)</th>\n",
       "      <th>Value_co2_emissions_kt_by_country</th>\n",
       "      <th>Primary energy consumption per capita (kWh/person)</th>\n",
       "    </tr>\n",
       "  </thead>\n",
       "  <tbody>\n",
       "    <tr>\n",
       "      <th>count</th>\n",
       "      <td>2718.000000</td>\n",
       "      <td>3628.000000</td>\n",
       "      <td>1512.000000</td>\n",
       "      <td>3.221000e+03</td>\n",
       "      <td>3649.000000</td>\n",
       "    </tr>\n",
       "    <tr>\n",
       "      <th>mean</th>\n",
       "      <td>113.137498</td>\n",
       "      <td>23.968010</td>\n",
       "      <td>11.986707</td>\n",
       "      <td>1.598665e+05</td>\n",
       "      <td>25743.981745</td>\n",
       "    </tr>\n",
       "    <tr>\n",
       "      <th>std</th>\n",
       "      <td>244.167256</td>\n",
       "      <td>104.431085</td>\n",
       "      <td>14.994644</td>\n",
       "      <td>7.736611e+05</td>\n",
       "      <td>34773.221366</td>\n",
       "    </tr>\n",
       "    <tr>\n",
       "      <th>min</th>\n",
       "      <td>0.000000</td>\n",
       "      <td>0.000000</td>\n",
       "      <td>0.000000</td>\n",
       "      <td>1.000000e+01</td>\n",
       "      <td>0.000000</td>\n",
       "    </tr>\n",
       "    <tr>\n",
       "      <th>25%</th>\n",
       "      <td>3.540000</td>\n",
       "      <td>0.040000</td>\n",
       "      <td>2.137095</td>\n",
       "      <td>2.020000e+03</td>\n",
       "      <td>3116.737300</td>\n",
       "    </tr>\n",
       "    <tr>\n",
       "      <th>50%</th>\n",
       "      <td>32.910000</td>\n",
       "      <td>1.470000</td>\n",
       "      <td>6.290766</td>\n",
       "      <td>1.050000e+04</td>\n",
       "      <td>13120.570000</td>\n",
       "    </tr>\n",
       "    <tr>\n",
       "      <th>75%</th>\n",
       "      <td>112.210000</td>\n",
       "      <td>9.600000</td>\n",
       "      <td>16.841638</td>\n",
       "      <td>6.058000e+04</td>\n",
       "      <td>33892.780000</td>\n",
       "    </tr>\n",
       "    <tr>\n",
       "      <th>max</th>\n",
       "      <td>3060.190000</td>\n",
       "      <td>2184.940000</td>\n",
       "      <td>86.836586</td>\n",
       "      <td>1.070722e+07</td>\n",
       "      <td>262585.700000</td>\n",
       "    </tr>\n",
       "  </tbody>\n",
       "</table>\n",
       "</div>"
      ],
      "text/plain": [
       "       Renewable-electricity-generating-capacity-per-capita  \\\n",
       "count                                        2718.000000      \n",
       "mean                                          113.137498      \n",
       "std                                           244.167256      \n",
       "min                                             0.000000      \n",
       "25%                                             3.540000      \n",
       "50%                                            32.910000      \n",
       "75%                                           112.210000      \n",
       "max                                          3060.190000      \n",
       "\n",
       "       Electricity from renewables (TWh)  \\\n",
       "count                        3628.000000   \n",
       "mean                           23.968010   \n",
       "std                           104.431085   \n",
       "min                             0.000000   \n",
       "25%                             0.040000   \n",
       "50%                             1.470000   \n",
       "75%                             9.600000   \n",
       "max                          2184.940000   \n",
       "\n",
       "       Renewables (% equivalent primary energy)  \\\n",
       "count                               1512.000000   \n",
       "mean                                  11.986707   \n",
       "std                                   14.994644   \n",
       "min                                    0.000000   \n",
       "25%                                    2.137095   \n",
       "50%                                    6.290766   \n",
       "75%                                   16.841638   \n",
       "max                                   86.836586   \n",
       "\n",
       "       Value_co2_emissions_kt_by_country  \\\n",
       "count                       3.221000e+03   \n",
       "mean                        1.598665e+05   \n",
       "std                         7.736611e+05   \n",
       "min                         1.000000e+01   \n",
       "25%                         2.020000e+03   \n",
       "50%                         1.050000e+04   \n",
       "75%                         6.058000e+04   \n",
       "max                         1.070722e+07   \n",
       "\n",
       "       Primary energy consumption per capita (kWh/person)  \n",
       "count                                        3649.000000   \n",
       "mean                                        25743.981745   \n",
       "std                                         34773.221366   \n",
       "min                                             0.000000   \n",
       "25%                                          3116.737300   \n",
       "50%                                         13120.570000   \n",
       "75%                                         33892.780000   \n",
       "max                                        262585.700000   "
      ]
     },
     "execution_count": 4,
     "metadata": {},
     "output_type": "execute_result"
    }
   ],
   "source": [
    "# showing a summary of 5 relevant numeric features\n",
    "\n",
    "five_numeric_columns = ['Renewable-electricity-generating-capacity-per-capita','Electricity from renewables (TWh)',r'Renewables (% equivalent primary energy)','Value_co2_emissions_kt_by_country','Primary energy consumption per capita (kWh/person)']\n",
    "df[five_numeric_columns].describe()"
   ]
  },
  {
   "cell_type": "code",
   "execution_count": 5,
   "metadata": {},
   "outputs": [
    {
     "data": {
      "text/plain": [
       "Entity                                                               object\n",
       "Year                                                                  int64\n",
       "Access to electricity (% of population)                             float64\n",
       "Access to clean fuels for cooking                                   float64\n",
       "Renewable-electricity-generating-capacity-per-capita                float64\n",
       "Financial flows to developing countries (US $)                      float64\n",
       "Renewable energy share in the total final energy consumption (%)    float64\n",
       "Electricity from fossil fuels (TWh)                                 float64\n",
       "Electricity from nuclear (TWh)                                      float64\n",
       "Electricity from renewables (TWh)                                   float64\n",
       "Low-carbon electricity (% electricity)                              float64\n",
       "Primary energy consumption per capita (kWh/person)                  float64\n",
       "Energy intensity level of primary energy (MJ/$2017 PPP GDP)         float64\n",
       "Value_co2_emissions_kt_by_country                                   float64\n",
       "Renewables (% equivalent primary energy)                            float64\n",
       "gdp_growth                                                          float64\n",
       "gdp_per_capita                                                      float64\n",
       "Density\\n(P/Km2)                                                     object\n",
       "Land Area(Km2)                                                      float64\n",
       "Latitude                                                            float64\n",
       "Longitude                                                           float64\n",
       "dtype: object"
      ]
     },
     "execution_count": 5,
     "metadata": {},
     "output_type": "execute_result"
    }
   ],
   "source": [
    "# showing features' types\n",
    "\n",
    "df.dtypes"
   ]
  },
  {
   "cell_type": "code",
   "execution_count": 6,
   "metadata": {},
   "outputs": [],
   "source": [
    "# updating incorrect data type\n",
    "\n",
    "df.loc[:,r'Density\\n(P/Km2)'] = df.loc[:,r'Density\\n(P/Km2)'].str.replace(',','.').astype(float)"
   ]
  },
  {
   "cell_type": "code",
   "execution_count": 7,
   "metadata": {},
   "outputs": [
    {
     "data": {
      "text/plain": [
       "Entity                                                               object\n",
       "Year                                                                  int64\n",
       "Access to electricity (% of population)                             float64\n",
       "Access to clean fuels for cooking                                   float64\n",
       "Renewable-electricity-generating-capacity-per-capita                float64\n",
       "Financial flows to developing countries (US $)                      float64\n",
       "Renewable energy share in the total final energy consumption (%)    float64\n",
       "Electricity from fossil fuels (TWh)                                 float64\n",
       "Electricity from nuclear (TWh)                                      float64\n",
       "Electricity from renewables (TWh)                                   float64\n",
       "Low-carbon electricity (% electricity)                              float64\n",
       "Primary energy consumption per capita (kWh/person)                  float64\n",
       "Energy intensity level of primary energy (MJ/$2017 PPP GDP)         float64\n",
       "Value_co2_emissions_kt_by_country                                   float64\n",
       "Renewables (% equivalent primary energy)                            float64\n",
       "gdp_growth                                                          float64\n",
       "gdp_per_capita                                                      float64\n",
       "Density\\n(P/Km2)                                                    float64\n",
       "Land Area(Km2)                                                      float64\n",
       "Latitude                                                            float64\n",
       "Longitude                                                           float64\n",
       "dtype: object"
      ]
     },
     "execution_count": 7,
     "metadata": {},
     "output_type": "execute_result"
    }
   ],
   "source": [
    "# checking features' types\n",
    "\n",
    "df.dtypes"
   ]
  },
  {
   "cell_type": "markdown",
   "metadata": {},
   "source": [
    "## Clusterización de países según su nivel de emisiones de CO2"
   ]
  },
  {
   "cell_type": "markdown",
   "metadata": {},
   "source": [
    "A fin de intentar resolver esta cuestión, podríamos trabajar con las columnas \"Entity\"(nombres de los países: _variable identificatoria_), \"Year\"(_fecha_), \"Value_co2_emissions_kt_by_country\"(_variable numérica_), \"Electricity from fossil fuels (TWh)\"(_variable numérica_), \"Primary energy consumption per capita (kWh/person)\"(_variable numérica_) y \"gdp_per_capita\"(_variable numérica_).\n",
    "\n",
    "Al ser un problema de aprendizaje no supervisado, solo tendremos variables de entrada."
   ]
  },
  {
   "cell_type": "code",
   "execution_count": 8,
   "metadata": {},
   "outputs": [
    {
     "data": {
      "text/html": [
       "<div>\n",
       "<style scoped>\n",
       "    .dataframe tbody tr th:only-of-type {\n",
       "        vertical-align: middle;\n",
       "    }\n",
       "\n",
       "    .dataframe tbody tr th {\n",
       "        vertical-align: top;\n",
       "    }\n",
       "\n",
       "    .dataframe thead th {\n",
       "        text-align: right;\n",
       "    }\n",
       "</style>\n",
       "<table border=\"1\" class=\"dataframe\">\n",
       "  <thead>\n",
       "    <tr style=\"text-align: right;\">\n",
       "      <th></th>\n",
       "      <th>Value_co2_emissions_kt_by_country</th>\n",
       "      <th>Electricity from fossil fuels (TWh)</th>\n",
       "      <th>Primary energy consumption per capita (kWh/person)</th>\n",
       "      <th>gdp_per_capita</th>\n",
       "    </tr>\n",
       "  </thead>\n",
       "  <tbody>\n",
       "    <tr>\n",
       "      <th>Value_co2_emissions_kt_by_country</th>\n",
       "      <td>1.000000</td>\n",
       "      <td>0.989741</td>\n",
       "      <td>0.095683</td>\n",
       "      <td>0.098209</td>\n",
       "    </tr>\n",
       "    <tr>\n",
       "      <th>Electricity from fossil fuels (TWh)</th>\n",
       "      <td>0.989741</td>\n",
       "      <td>1.000000</td>\n",
       "      <td>0.105529</td>\n",
       "      <td>0.107793</td>\n",
       "    </tr>\n",
       "    <tr>\n",
       "      <th>Primary energy consumption per capita (kWh/person)</th>\n",
       "      <td>0.095683</td>\n",
       "      <td>0.105529</td>\n",
       "      <td>1.000000</td>\n",
       "      <td>0.667172</td>\n",
       "    </tr>\n",
       "    <tr>\n",
       "      <th>gdp_per_capita</th>\n",
       "      <td>0.098209</td>\n",
       "      <td>0.107793</td>\n",
       "      <td>0.667172</td>\n",
       "      <td>1.000000</td>\n",
       "    </tr>\n",
       "  </tbody>\n",
       "</table>\n",
       "</div>"
      ],
      "text/plain": [
       "                                                    Value_co2_emissions_kt_by_country  \\\n",
       "Value_co2_emissions_kt_by_country                                            1.000000   \n",
       "Electricity from fossil fuels (TWh)                                          0.989741   \n",
       "Primary energy consumption per capita (kWh/person)                           0.095683   \n",
       "gdp_per_capita                                                               0.098209   \n",
       "\n",
       "                                                    Electricity from fossil fuels (TWh)  \\\n",
       "Value_co2_emissions_kt_by_country                                              0.989741   \n",
       "Electricity from fossil fuels (TWh)                                            1.000000   \n",
       "Primary energy consumption per capita (kWh/person)                             0.105529   \n",
       "gdp_per_capita                                                                 0.107793   \n",
       "\n",
       "                                                    Primary energy consumption per capita (kWh/person)  \\\n",
       "Value_co2_emissions_kt_by_country                                                            0.095683    \n",
       "Electricity from fossil fuels (TWh)                                                          0.105529    \n",
       "Primary energy consumption per capita (kWh/person)                                           1.000000    \n",
       "gdp_per_capita                                                                               0.667172    \n",
       "\n",
       "                                                    gdp_per_capita  \n",
       "Value_co2_emissions_kt_by_country                         0.098209  \n",
       "Electricity from fossil fuels (TWh)                       0.107793  \n",
       "Primary energy consumption per capita (kWh/person)        0.667172  \n",
       "gdp_per_capita                                            1.000000  "
      ]
     },
     "execution_count": 8,
     "metadata": {},
     "output_type": "execute_result"
    }
   ],
   "source": [
    "# checking pearson correlation coefficient between features\n",
    "\n",
    "df[['Value_co2_emissions_kt_by_country', 'Electricity from fossil fuels (TWh)', 'Primary energy consumption per capita (kWh/person)', 'gdp_per_capita']].corr()"
   ]
  },
  {
   "cell_type": "markdown",
   "metadata": {},
   "source": [
    "Por supuesto lineal de ausencia de colinealidad, descartamos trabajar con \"Electricity from fossil fuels (TWh)\" ya que tiene una muy fuerte correlación lineal con \"Value_co2_emissions_kt_by_country\"."
   ]
  },
  {
   "cell_type": "code",
   "execution_count": 9,
   "metadata": {},
   "outputs": [
    {
     "name": "stdout",
     "output_type": "stream",
     "text": [
      "CO2 emissions distribution skewness: 9.34\n",
      "Primary energy consumption per capita distribution skewness: 2.65\n",
      "GDP per capita distribution skewness: 2.36\n"
     ]
    }
   ],
   "source": [
    "# checking distributions' skewness\n",
    "\n",
    "print(f'CO2 emissions distribution skewness: {df.Value_co2_emissions_kt_by_country.skew():.2f}')\n",
    "print(f'Primary energy consumption per capita distribution skewness: {df.loc[:,\"Primary energy consumption per capita (kWh/person)\"].skew():.2f}')\n",
    "print(f'GDP per capita distribution skewness: {df.gdp_per_capita.skew():.2f}')"
   ]
  },
  {
   "cell_type": "code",
   "execution_count": 10,
   "metadata": {},
   "outputs": [
    {
     "data": {
      "image/png": "[encoded data removed]",
      "text/plain": [
       "<Figure size 2160x576 with 2 Axes>"
      ]
     },
     "metadata": {
      "needs_background": "light"
     },
     "output_type": "display_data"
    }
   ],
   "source": [
    "# plotting Value_co2_emissions_kt_by_country distribution in both normal scale and log-scale\n",
    "\n",
    "fig, axes = plt.subplots(nrows= 1, ncols= 2,figsize=(30,8))\n",
    "\n",
    "sns.histplot(x= df.Value_co2_emissions_kt_by_country, kde= True, log_scale= False, ax=axes[0]) \n",
    "sns.histplot(x= df.Value_co2_emissions_kt_by_country, color='red', kde= True, log_scale= True, ax=axes[1])\n",
    "axes[0].set_title('CO2 emissions distribution - Normal scale') \n",
    "axes[1].set_title('CO2 emissions distribution - Logarithmic scale') \n",
    "\n",
    "plt.show()"
   ]
  },
  {
   "cell_type": "code",
   "execution_count": 11,
   "metadata": {},
   "outputs": [
    {
     "data": {
      "image/png": "[encoded data removed]",
      "text/plain": [
       "<Figure size 2160x576 with 2 Axes>"
      ]
     },
     "metadata": {
      "needs_background": "light"
     },
     "output_type": "display_data"
    }
   ],
   "source": [
    "# plotting Primary energy consumption per capita distribution in both normal scale and log-scale\n",
    "\n",
    "df.loc[:,\"Primary energy consumption per capita (kWh/person)\"]= df.loc[:,\"Primary energy consumption per capita (kWh/person)\"].apply(lambda x: x + 150) \n",
    "\n",
    "fig, axes = plt.subplots(nrows= 1, ncols= 2,figsize=(30,8))\n",
    "\n",
    "sns.histplot(x= df.loc[:,\"Primary energy consumption per capita (kWh/person)\"], kde= True, log_scale= False, ax=axes[0]) \n",
    "sns.histplot(x= df.loc[:,\"Primary energy consumption per capita (kWh/person)\"], color='red', kde= True, log_scale= True, ax=axes[1])\n",
    "axes[0].set_title('Primary energy consumption per capita - Normal scale') \n",
    "axes[1].set_title('Primary energy consumption per capita distribution - Logarithmic scale') \n",
    "\n",
    "plt.show()"
   ]
  },
  {
   "cell_type": "code",
   "execution_count": 12,
   "metadata": {},
   "outputs": [
    {
     "data": {
      "image/png": "[encoded data removed]",
      "text/plain": [
       "<Figure size 2160x576 with 2 Axes>"
      ]
     },
     "metadata": {
      "needs_background": "light"
     },
     "output_type": "display_data"
    }
   ],
   "source": [
    "# plotting gdp_per_capita distribution in both normal scale and log-scale\n",
    "\n",
    "fig, axes = plt.subplots(nrows= 1, ncols= 2,figsize=(30,8))\n",
    "\n",
    "sns.histplot(x= df.gdp_per_capita, kde= True, log_scale= False, ax=axes[0]) \n",
    "sns.histplot(x= df.gdp_per_capita, color='red', kde= True, log_scale= True, ax=axes[1])\n",
    "axes[0].set_title('GDP per capita - Normal scale') \n",
    "axes[1].set_title('GDP per capita - Logarithmic scale') \n",
    "\n",
    "plt.show()"
   ]
  },
  {
   "cell_type": "markdown",
   "metadata": {},
   "source": [
    "***"
   ]
  },
  {
   "cell_type": "markdown",
   "metadata": {},
   "source": [
    "### Limpieza y preparación de datos / ingeniería de features"
   ]
  },
  {
   "cell_type": "code",
   "execution_count": 13,
   "metadata": {},
   "outputs": [
    {
     "data": {
      "text/plain": [
       "Entity                                                                 0\n",
       "Year                                                                   0\n",
       "Access to electricity (% of population)                               10\n",
       "Access to clean fuels for cooking                                    169\n",
       "Renewable-electricity-generating-capacity-per-capita                 931\n",
       "Financial flows to developing countries (US $)                      2089\n",
       "Renewable energy share in the total final energy consumption (%)     194\n",
       "Electricity from fossil fuels (TWh)                                   21\n",
       "Electricity from nuclear (TWh)                                       126\n",
       "Electricity from renewables (TWh)                                     21\n",
       "Low-carbon electricity (% electricity)                                42\n",
       "Primary energy consumption per capita (kWh/person)                     0\n",
       "Energy intensity level of primary energy (MJ/$2017 PPP GDP)          207\n",
       "Value_co2_emissions_kt_by_country                                    428\n",
       "Renewables (% equivalent primary energy)                            2137\n",
       "gdp_growth                                                           317\n",
       "gdp_per_capita                                                       282\n",
       "Density\\n(P/Km2)                                                       1\n",
       "Land Area(Km2)                                                         1\n",
       "Latitude                                                               1\n",
       "Longitude                                                              1\n",
       "dtype: int64"
      ]
     },
     "execution_count": 13,
     "metadata": {},
     "output_type": "execute_result"
    }
   ],
   "source": [
    "# checking missing data in the entire dataset\n",
    "\n",
    "df.isnull().sum()"
   ]
  },
  {
   "cell_type": "markdown",
   "metadata": {},
   "source": [
    "Suponemos **MNAR** (*Missing Not At Random*) debido a que es posible que haya menos datos de los países más pequeños y menos populares. \n",
    "Cabe mencionar que debido a estos supuestos, es muy probable que tengan una mucha menor injerencia sobre las emisiones de CO2 globales."
   ]
  },
  {
   "cell_type": "code",
   "execution_count": 14,
   "metadata": {},
   "outputs": [
    {
     "name": "stdout",
     "output_type": "stream",
     "text": [
      "We are missing 11.73% of Value_co2_emissions_kt_by_country values.\n"
     ]
    }
   ],
   "source": [
    "# checking Value_co2_emissions_kt_by_country missing values\n",
    "\n",
    "co2_missing_values= df.Value_co2_emissions_kt_by_country.isnull().sum()\n",
    "total_values= len(df)\n",
    "\n",
    "co2_missing_values_perc= ( co2_missing_values/total_values)*100\n",
    "\n",
    "print(f'We are missing {co2_missing_values_perc:.2f}% of Value_co2_emissions_kt_by_country values.')"
   ]
  },
  {
   "cell_type": "code",
   "execution_count": 15,
   "metadata": {},
   "outputs": [
    {
     "name": "stdout",
     "output_type": "stream",
     "text": [
      "We are missing 0.00% of Primary energy consumption per capita (kWh/person) values.\n"
     ]
    }
   ],
   "source": [
    "# checking Primary energy consumption per capita missing values\n",
    "\n",
    "p_energy_missing_values= df.loc[:,\"Primary energy consumption per capita (kWh/person)\"].isnull().sum()\n",
    "\n",
    "p_energy_missing_values_perc= ( p_energy_missing_values/total_values)*100\n",
    "\n",
    "print(f'We are missing {p_energy_missing_values_perc:.2f}% of Primary energy consumption per capita (kWh/person) values.')"
   ]
  },
  {
   "cell_type": "code",
   "execution_count": 16,
   "metadata": {},
   "outputs": [
    {
     "name": "stdout",
     "output_type": "stream",
     "text": [
      "We are missing 7.73% of gdp_per_capita values.\n"
     ]
    }
   ],
   "source": [
    "# checking gdp_per_capita missing values\n",
    "\n",
    "gdp_missing_values= df.gdp_per_capita.isnull().sum()\n",
    "\n",
    "gdp_missing_values_perc= ( gdp_missing_values/total_values)*100\n",
    "\n",
    "print(f'We are missing {gdp_missing_values_perc:.2f}% of gdp_per_capita values.')"
   ]
  },
  {
   "cell_type": "markdown",
   "metadata": {},
   "source": [
    "Las 2 columnas con datos faltantes se ven afectadas en más de un 5%, por lo que es probable que agreguemos *sesgo* al dataset rellenándolas.\n",
    "\n",
    "**1.** Podemos utilizar una **imputación por valor arbitrario**, siendo que suponemos **MNAR**. \n",
    "\n",
    "**2.** También podemos utilizar **MICE** (Multiple Imputation by Chained Equations).\n"
   ]
  },
  {
   "cell_type": "code",
   "execution_count": 28,
   "metadata": {},
   "outputs": [
    {
     "data": {
      "text/html": [
       "<div>\n",
       "<style scoped>\n",
       "    .dataframe tbody tr th:only-of-type {\n",
       "        vertical-align: middle;\n",
       "    }\n",
       "\n",
       "    .dataframe tbody tr th {\n",
       "        vertical-align: top;\n",
       "    }\n",
       "\n",
       "    .dataframe thead th {\n",
       "        text-align: right;\n",
       "    }\n",
       "</style>\n",
       "<table border=\"1\" class=\"dataframe\">\n",
       "  <thead>\n",
       "    <tr style=\"text-align: right;\">\n",
       "      <th></th>\n",
       "      <th>Primary energy consumption per capita (kWh/person)</th>\n",
       "      <th>gdp_per_capita</th>\n",
       "      <th>Value_co2_emissions_kt_by_country</th>\n",
       "      <th>gdp_per_capita_imputed</th>\n",
       "      <th>Value_co2_emissions_kt_by_country_imputed</th>\n",
       "    </tr>\n",
       "  </thead>\n",
       "  <tbody>\n",
       "    <tr>\n",
       "      <th>0</th>\n",
       "      <td>452.59482</td>\n",
       "      <td>0.000000</td>\n",
       "      <td>760.000000</td>\n",
       "      <td>1.0</td>\n",
       "      <td>0.0</td>\n",
       "    </tr>\n",
       "    <tr>\n",
       "      <th>1</th>\n",
       "      <td>386.89185</td>\n",
       "      <td>0.000000</td>\n",
       "      <td>730.000000</td>\n",
       "      <td>1.0</td>\n",
       "      <td>0.0</td>\n",
       "    </tr>\n",
       "    <tr>\n",
       "      <th>2</th>\n",
       "      <td>360.86215</td>\n",
       "      <td>179.426579</td>\n",
       "      <td>1029.999971</td>\n",
       "      <td>0.0</td>\n",
       "      <td>0.0</td>\n",
       "    </tr>\n",
       "    <tr>\n",
       "      <th>3</th>\n",
       "      <td>379.96822</td>\n",
       "      <td>190.683814</td>\n",
       "      <td>1220.000029</td>\n",
       "      <td>0.0</td>\n",
       "      <td>0.0</td>\n",
       "    </tr>\n",
       "    <tr>\n",
       "      <th>4</th>\n",
       "      <td>354.23125</td>\n",
       "      <td>211.382074</td>\n",
       "      <td>1029.999971</td>\n",
       "      <td>0.0</td>\n",
       "      <td>0.0</td>\n",
       "    </tr>\n",
       "  </tbody>\n",
       "</table>\n",
       "</div>"
      ],
      "text/plain": [
       "   Primary energy consumption per capita (kWh/person)  gdp_per_capita  \\\n",
       "0                                          452.59482         0.000000   \n",
       "1                                          386.89185         0.000000   \n",
       "2                                          360.86215       179.426579   \n",
       "3                                          379.96822       190.683814   \n",
       "4                                          354.23125       211.382074   \n",
       "\n",
       "   Value_co2_emissions_kt_by_country  gdp_per_capita_imputed  \\\n",
       "0                         760.000000                     1.0   \n",
       "1                         730.000000                     1.0   \n",
       "2                        1029.999971                     0.0   \n",
       "3                        1220.000029                     0.0   \n",
       "4                        1029.999971                     0.0   \n",
       "\n",
       "   Value_co2_emissions_kt_by_country_imputed  \n",
       "0                                        0.0  \n",
       "1                                        0.0  \n",
       "2                                        0.0  \n",
       "3                                        0.0  \n",
       "4                                        0.0  "
      ]
     },
     "execution_count": 28,
     "metadata": {},
     "output_type": "execute_result"
    }
   ],
   "source": [
    "# imputing with constant value\n",
    "\n",
    "from sklearn.impute import SimpleImputer\n",
    "\n",
    "df_imputed= df[['gdp_per_capita','Value_co2_emissions_kt_by_country']]\n",
    "df_imputed_cols= list(df_imputed.columns) + ['gdp_per_capita_imputed', 'Value_co2_emissions_kt_by_country_imputed']\n",
    "\n",
    "imputer = SimpleImputer(missing_values=np.nan, strategy='constant', fill_value= 0, add_indicator=True)\n",
    "\n",
    "df_constant_imputed_array= imputer.fit_transform(df_constant_imputed)\n",
    "\n",
    "df_constant_imputed= pd.DataFrame(df_constant_imputed_array, columns= df_constant_imputed_cols)\n",
    "\n",
    "df_constant_imputed.insert(0, 'Primary energy consumption per capita (kWh/person)', df['Primary energy consumption per capita (kWh/person)'])\n",
    "\n",
    "df_constant_imputed.head()"
   ]
  },
  {
   "cell_type": "code",
   "execution_count": 29,
   "metadata": {},
   "outputs": [
    {
     "data": {
      "text/plain": [
       "Primary energy consumption per capita (kWh/person)    0\n",
       "gdp_per_capita                                        0\n",
       "Value_co2_emissions_kt_by_country                     0\n",
       "gdp_per_capita_imputed                                0\n",
       "Value_co2_emissions_kt_by_country_imputed             0\n",
       "dtype: int64"
      ]
     },
     "execution_count": 29,
     "metadata": {},
     "output_type": "execute_result"
    }
   ],
   "source": [
    "# checking missing values\n",
    "\n",
    "df_constant_imputed.isna().sum()"
   ]
  },
  {
   "cell_type": "code",
   "execution_count": 102,
   "metadata": {},
   "outputs": [
    {
     "data": {
      "text/html": [
       "<div>\n",
       "<style scoped>\n",
       "    .dataframe tbody tr th:only-of-type {\n",
       "        vertical-align: middle;\n",
       "    }\n",
       "\n",
       "    .dataframe tbody tr th {\n",
       "        vertical-align: top;\n",
       "    }\n",
       "\n",
       "    .dataframe thead th {\n",
       "        text-align: right;\n",
       "    }\n",
       "</style>\n",
       "<table border=\"1\" class=\"dataframe\">\n",
       "  <thead>\n",
       "    <tr style=\"text-align: right;\">\n",
       "      <th></th>\n",
       "      <th>Value_co2_emissions_kt_by_country</th>\n",
       "      <th>gdp_per_capita</th>\n",
       "      <th>Electricity from fossil fuels (TWh)</th>\n",
       "      <th>Primary energy consumption per capita (kWh/person)</th>\n",
       "    </tr>\n",
       "  </thead>\n",
       "  <tbody>\n",
       "    <tr>\n",
       "      <th>0</th>\n",
       "      <td>760.000000</td>\n",
       "      <td>3604.802225</td>\n",
       "      <td>0.16</td>\n",
       "      <td>452.59482</td>\n",
       "    </tr>\n",
       "    <tr>\n",
       "      <th>1</th>\n",
       "      <td>730.000000</td>\n",
       "      <td>3580.739263</td>\n",
       "      <td>0.09</td>\n",
       "      <td>386.89185</td>\n",
       "    </tr>\n",
       "    <tr>\n",
       "      <th>2</th>\n",
       "      <td>1029.999971</td>\n",
       "      <td>179.426579</td>\n",
       "      <td>0.13</td>\n",
       "      <td>360.86215</td>\n",
       "    </tr>\n",
       "    <tr>\n",
       "      <th>3</th>\n",
       "      <td>1220.000029</td>\n",
       "      <td>190.683814</td>\n",
       "      <td>0.31</td>\n",
       "      <td>379.96822</td>\n",
       "    </tr>\n",
       "    <tr>\n",
       "      <th>4</th>\n",
       "      <td>1029.999971</td>\n",
       "      <td>211.382074</td>\n",
       "      <td>0.33</td>\n",
       "      <td>354.23125</td>\n",
       "    </tr>\n",
       "  </tbody>\n",
       "</table>\n",
       "</div>"
      ],
      "text/plain": [
       "   Value_co2_emissions_kt_by_country  gdp_per_capita  \\\n",
       "0                         760.000000     3604.802225   \n",
       "1                         730.000000     3580.739263   \n",
       "2                        1029.999971      179.426579   \n",
       "3                        1220.000029      190.683814   \n",
       "4                        1029.999971      211.382074   \n",
       "\n",
       "   Electricity from fossil fuels (TWh)  \\\n",
       "0                                 0.16   \n",
       "1                                 0.09   \n",
       "2                                 0.13   \n",
       "3                                 0.31   \n",
       "4                                 0.33   \n",
       "\n",
       "   Primary energy consumption per capita (kWh/person)  \n",
       "0                                          452.59482   \n",
       "1                                          386.89185   \n",
       "2                                          360.86215   \n",
       "3                                          379.96822   \n",
       "4                                          354.23125   "
      ]
     },
     "execution_count": 102,
     "metadata": {},
     "output_type": "execute_result"
    }
   ],
   "source": [
    "# imputing with MICE\n",
    "\n",
    "from sklearn.experimental import enable_iterative_imputer\n",
    "from sklearn.impute import IterativeImputer\n",
    "\n",
    "mice_imputer = IterativeImputer(max_iter=100, random_state=3636, n_nearest_features= df[['Value_co2_emissions_kt_by_country', 'gdp_per_capita', 'Electricity from fossil fuels (TWh)', 'Primary energy consumption per capita (kWh/person)']].shape[1])\n",
    "\n",
    "imputed_data = mice_imputer.fit_transform(df[['Value_co2_emissions_kt_by_country', 'gdp_per_capita', 'Electricity from fossil fuels (TWh)', 'Primary energy consumption per capita (kWh/person)']])\n",
    "\n",
    "df_mice_imputed = pd.DataFrame(imputed_data, columns=df[['Value_co2_emissions_kt_by_country', 'gdp_per_capita', 'Electricity from fossil fuels (TWh)', 'Primary energy consumption per capita (kWh/person)']].columns)\n",
    "\n",
    "df_mice_imputed.head()"
   ]
  },
  {
   "cell_type": "code",
   "execution_count": 93,
   "metadata": {},
   "outputs": [
    {
     "data": {
      "text/plain": [
       "Value_co2_emissions_kt_by_country                     0\n",
       "gdp_per_capita                                        0\n",
       "Electricity from fossil fuels (TWh)                   0\n",
       "Primary energy consumption per capita (kWh/person)    0\n",
       "dtype: int64"
      ]
     },
     "execution_count": 93,
     "metadata": {},
     "output_type": "execute_result"
    }
   ],
   "source": [
    "# checking missing values\n",
    "\n",
    "df_mice_imputed.isna().sum()"
   ]
  }
 ],
 "metadata": {
  "kernelspec": {
   "display_name": "base",
   "language": "python",
   "name": "python3"
  },
  "language_info": {
   "codemirror_mode": {
    "name": "ipython",
    "version": 3
   },
   "file_extension": ".py",
   "mimetype": "text/x-python",
   "name": "python",
   "nbconvert_exporter": "python",
   "pygments_lexer": "ipython3",
   "version": "3.9.7"
  },
  "orig_nbformat": 4
 },
 "nbformat": 4,
 "nbformat_minor": 2
}
